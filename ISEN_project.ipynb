{
 "cells": [
  {
   "cell_type": "code",
   "execution_count": 88,
   "metadata": {},
   "outputs": [],
   "source": [
    "import pandas as pd\n",
    "import numpy as np\n",
    "from sklearn.datasets import make_blobs\n",
    "from sklearn.model_selection import train_test_split\n",
    "import matplotlib.pyplot as plt\n",
    "from pandas import DataFrame\n",
    "from sklearn.tree import DecisionTreeRegressor\n",
    "from sklearn import tree\n",
    "from sklearn.base import BaseEstimator, TransformerMixin\n",
    "from sklearn.linear_model import LinearRegression\n",
    "from sklearn.pipeline import Pipeline\n",
    "from sklearn.metrics import confusion_matrix, accuracy_score\n",
    "from math import pi as PI\n",
    "from mlxtend.evaluate import bias_variance_decomp\n"
   ]
  },
  {
   "cell_type": "code",
   "execution_count": 48,
   "metadata": {},
   "outputs": [],
   "source": [
    "# function of get_natural_cubic_spline_model\n",
    "def get_natural_cubic_spline_model(x, y, minval=None, maxval=None, n_knots=None, knots=None):\n",
    "    \"\"\"\n",
    "    Get a natural cubic spline model for the data.\n",
    "\n",
    "    For the knots, give (a) `knots` (as an array) or (b) minval, maxval and n_knots.\n",
    "\n",
    "    If the knots are not directly specified, the resulting knots are equally\n",
    "    space within the *interior* of (max, min).  That is, the endpoints are\n",
    "    *not* included as knots.\n",
    "\n",
    "    Parameters\n",
    "    ----------\n",
    "    x: np.array of float\n",
    "        The input data\n",
    "    y: np.array of float\n",
    "        The outpur data\n",
    "    minval: float \n",
    "        Minimum of interval containing the knots.\n",
    "    maxval: float \n",
    "        Maximum of the interval containing the knots.\n",
    "    n_knots: positive integer \n",
    "        The number of knots to create.\n",
    "    knots: array or list of floats \n",
    "        The knots.\n",
    "    Returns\n",
    "    --------\n",
    "    model: a model object\n",
    "        The returned model will have following method:\n",
    "        - predict(x):\n",
    "            x is a numpy array. This will return the predicted y-values.\n",
    "    \"\"\"\n",
    "    if knots:\n",
    "        spline = NaturalCubicSpline(knots=knots)\n",
    "    else:\n",
    "        spline = NaturalCubicSpline(max=maxval, min=minval, n_knots=n_knots)\n",
    "\n",
    "    p = Pipeline([\n",
    "        ('nat_cubic', spline),\n",
    "        ('regression', LinearRegression(fit_intercept=True))\n",
    "    ])\n",
    "\n",
    "    p.fit(x, y)\n",
    "\n",
    "    return p\n",
    "\n",
    "class AbstractSpline(BaseEstimator, TransformerMixin):\n",
    "    \"\"\"Base class for all spline basis expansions.\"\"\"\n",
    "\n",
    "    def __init__(self, max=None, min=None, n_knots=None, n_params=None, knots=None):\n",
    "        if knots is None:\n",
    "            if not n_knots:\n",
    "                n_knots = self._compute_n_knots(n_params)\n",
    "            knots = np.linspace(min, max, num=(n_knots + 2))[1:-1]\n",
    "            max, min = np.max(knots), np.min(knots)\n",
    "        self.knots = np.asarray(knots)\n",
    "\n",
    "    @property\n",
    "    def n_knots(self):\n",
    "        return len(self.knots)\n",
    "\n",
    "    def fit(self, *args, **kwargs):\n",
    "        return self\n",
    "class NaturalCubicSpline(AbstractSpline):\n",
    "    \"\"\"Apply a natural cubic basis expansion to an array.\n",
    "    The features created with this basis expansion can be used to fit a\n",
    "    piecewise cubic function under the constraint that the fitted curve is\n",
    "    linear *outside* the range of the knots..  The fitted curve is continuously\n",
    "    differentiable to the second order at all of the knots.\n",
    "    This transformer can be created in two ways:\n",
    "      - By specifying the maximum, minimum, and number of knots.\n",
    "      - By specifying the cutpoints directly.  \n",
    "\n",
    "    If the knots are not directly specified, the resulting knots are equally\n",
    "    space within the *interior* of (max, min).  That is, the endpoints are\n",
    "    *not* included as knots.\n",
    "    Parameters\n",
    "    ----------\n",
    "    min: float \n",
    "        Minimum of interval containing the knots.\n",
    "    max: float \n",
    "        Maximum of the interval containing the knots.\n",
    "    n_knots: positive integer \n",
    "        The number of knots to create.\n",
    "    knots: array or list of floats \n",
    "        The knots.\n",
    "    \"\"\"\n",
    "    def _compute_n_knots(self, n_params):\n",
    "        return n_params\n",
    "\n",
    "    @property\n",
    "    def n_params(self):\n",
    "        return self.n_knots - 1\n",
    "\n",
    "    def transform(self, X, **transform_params):\n",
    "        X_spl = self._transform_array(X)\n",
    "        if isinstance(X, pd.Series):\n",
    "            col_names = self._make_names(X)\n",
    "            X_spl = pd.DataFrame(X_spl, columns=col_names, index=X.index)\n",
    "        return X_spl\n",
    "\n",
    "    def _make_names(self, X):\n",
    "        first_name = \"{}_spline_linear\".format(X.name)\n",
    "        rest_names = [\"{}_spline_{}\".format(X.name, idx)\n",
    "                      for idx in range(self.n_knots - 2)]\n",
    "        return [first_name] + rest_names\n",
    "    def _transform_array(self, X, **transform_params):\n",
    "        X = X.squeeze()\n",
    "        try:\n",
    "            X_spl = np.zeros((X.shape[0], self.n_knots - 1))\n",
    "        except IndexError: # For arrays with only one element\n",
    "            X_spl = np.zeros((1, self.n_knots - 1))\n",
    "        X_spl[:, 0] = X.squeeze()\n",
    "\n",
    "        def d(knot_idx, x):\n",
    "            def ppart(t): return np.maximum(0, t)\n",
    "\n",
    "            def cube(t): return t*t*t\n",
    "            numerator = (cube(ppart(x - self.knots[knot_idx]))\n",
    "                         - cube(ppart(x - self.knots[self.n_knots - 1])))\n",
    "            denominator = self.knots[self.n_knots - 1] - self.knots[knot_idx]\n",
    "            return numerator / denominator\n",
    "\n",
    "        for i in range(0, self.n_knots - 2):\n",
    "            X_spl[:, i+1] = (d(i, X) - d(self.n_knots - 2, X)).squeeze()\n",
    "        return X_spl"
   ]
  },
  {
   "cell_type": "markdown",
   "metadata": {
    "tags": []
   },
   "source": [
    "#### Temp"
   ]
  },
  {
   "cell_type": "code",
   "execution_count": 145,
   "metadata": {},
   "outputs": [],
   "source": [
    "# create dataset\n",
    "# rng = np.random.RandomState(123)\n",
    "# X = np.linspace(0, 2, num = 500)\n",
    "# eps = np.random.normal(0, 1, 500)\n",
    "# y = np.sin(PI*X) + eps\n",
    "# y[::5] += 3 * (0.5 - rng.rand(16))"
   ]
  },
  {
   "cell_type": "code",
   "execution_count": 146,
   "metadata": {},
   "outputs": [],
   "source": [
    "# x_train, x_test, y_train, y_test = train_test_split(X,\n",
    "#                                                     y,\n",
    "#                                                     test_size = 0.2,\n",
    "#                                                     random_state = 1)"
   ]
  },
  {
   "cell_type": "code",
   "execution_count": 147,
   "metadata": {},
   "outputs": [],
   "source": [
    "# plt.scatter(x_train, y_train, label = \"Train set\")\n",
    "# plt.scatter(x_test, y_test, label = \"Test set\")\n",
    "# plt.xlabel(\"X\")\n",
    "# plt.ylabel(\"y\")\n",
    "# plt.title(\"y = sin(πx) + Ɛ\")\n",
    "# plt.legend()\n",
    "# plt.show()"
   ]
  },
  {
   "cell_type": "markdown",
   "metadata": {},
   "source": [
    "#### Decision Tree Regressor"
   ]
  },
  {
   "cell_type": "code",
   "execution_count": 135,
   "metadata": {},
   "outputs": [],
   "source": [
    "rng = np.random.RandomState(1)\n",
    "X = np.sort(5 * rng.rand(80, 1), axis=0)\n",
    "y = np.sin(X).ravel()\n",
    "y[::5] += 3 * (0.5 - rng.rand(16))"
   ]
  },
  {
   "cell_type": "code",
   "execution_count": 136,
   "metadata": {},
   "outputs": [],
   "source": [
    "X_train, X_test, y_train, y_test = train_test_split(X, y,\n",
    "                                                    test_size=0.3,\n",
    "                                                    random_state=123,\n",
    "                                                    shuffle=True)"
   ]
  },
  {
   "cell_type": "code",
   "execution_count": 137,
   "metadata": {},
   "outputs": [
    {
     "data": {
      "text/plain": [
       "DecisionTreeRegressor(max_depth=5)"
      ]
     },
     "execution_count": 137,
     "metadata": {},
     "output_type": "execute_result"
    }
   ],
   "source": [
    "regr_1 = DecisionTreeRegressor(max_depth=2)\n",
    "regr_2 = DecisionTreeRegressor(max_depth=5)\n",
    "regr_1.fit(X_train, y_train)\n",
    "regr_2.fit(X_train, y_train)"
   ]
  },
  {
   "cell_type": "code",
   "execution_count": 138,
   "metadata": {},
   "outputs": [],
   "source": [
    "# Predict\n",
    "X_test = np.arange(0.0, 5.0, 0.01)[:, np.newaxis]\n",
    "pred1 = regr_1.predict(X_test)\n",
    "pred2 = regr_2.predict(X_test)"
   ]
  },
  {
   "cell_type": "code",
   "execution_count": 139,
   "metadata": {},
   "outputs": [
    {
     "data": {
      "image/png": "[encoded data removed]",
      "text/plain": [
       "<Figure size 432x288 with 1 Axes>"
      ]
     },
     "metadata": {
      "needs_background": "light"
     },
     "output_type": "display_data"
    }
   ],
   "source": [
    "# Plot the results\n",
    "plt.figure()\n",
    "plt.scatter(X, y, s=20, edgecolor=\"black\", c=\"grey\", label=\"data\")\n",
    "plt.plot(X_test, pred1, color='lightsteelblue', label=\"max_depth=2\", linewidth=2)\n",
    "plt.plot(X_test, pred2, color=\"steelblue\", label=\"max_depth=5\", linewidth=2)\n",
    "plt.xlabel(\"data\")\n",
    "plt.ylabel(\"target\")\n",
    "plt.title(\"Decision Tree Regression\")\n",
    "plt.legend()\n",
    "plt.show()"
   ]
  },
  {
   "cell_type": "code",
   "execution_count": 140,
   "metadata": {},
   "outputs": [
    {
     "name": "stdout",
     "output_type": "stream",
     "text": [
      "Node 0 has MSE 0.5495569396281711\n",
      "Node 1 has MSE 0.26795141403977085\n",
      "Node 2 has MSE 0.23101631238172113\n",
      "Node 3 has MSE 0.16077342308192832\n",
      "Node 4 has MSE 0.14248349892568896\n",
      "Node 5 has MSE 0.0018941139189612224\n",
      "Node 6 has MSE 0.1223142140176402\n"
     ]
    }
   ],
   "source": [
    "# Reg1\n",
    "extracted_MSEs = regr_1.tree_.impurity\n",
    "for idx, MSE in enumerate(regr_1.tree_.impurity):\n",
    "    print(\"Node {} has MSE {}\".format(idx,MSE))"
   ]
  },
  {
   "cell_type": "code",
   "execution_count": 141,
   "metadata": {},
   "outputs": [
    {
     "name": "stdout",
     "output_type": "stream",
     "text": [
      "Node 0 has MSE 0.5495569396281711\n",
      "Node 1 has MSE 0.26795141403977085\n",
      "Node 2 has MSE 0.23101631238172113\n",
      "Node 3 has MSE 0.16077342308192832\n",
      "Node 4 has MSE 0.14248349892568896\n",
      "Node 5 has MSE 0.0018941139189612224\n",
      "Node 6 has MSE 0.1223142140176402\n"
     ]
    }
   ],
   "source": [
    "# Reg2\n",
    "extracted_MSEs = regr_2.tree_.impurity\n",
    "for idx, MSE in enumerate(regr_1.tree_.impurity):\n",
    "    print(\"Node {} has MSE {}\".format(idx,MSE))"
   ]
  },
  {
   "cell_type": "code",
   "execution_count": 142,
   "metadata": {},
   "outputs": [
    {
     "name": "stdout",
     "output_type": "stream",
     "text": [
      "Variance: 0.43575212619106773\n",
      "Bias: 0.11143766916187303\n"
     ]
    }
   ],
   "source": [
    "# Reg 1\n",
    "Variance_1 = np.var(pred1)\n",
    "SSE_1 = np.mean((np.mean(pred1) - y)**2)\n",
    "Bias_1 = SSE_1 - Variance_1\n",
    "print('Variance:', Variance_1)\n",
    "print('Bias:', Bias_1)"
   ]
  },
  {
   "cell_type": "code",
   "execution_count": 143,
   "metadata": {},
   "outputs": [
    {
     "name": "stdout",
     "output_type": "stream",
     "text": [
      "Variance: 0.552493796284432\n",
      "Bias: -0.005359218142788835\n"
     ]
    }
   ],
   "source": [
    "# Reg 2\n",
    "Variance_2 = np.var(pred2)\n",
    "SSE_2 = np.mean((np.mean(pred2) - y)**2)\n",
    "Bias_2 = SSE_2 - Variance_2\n",
    "print('Variance:', Variance_2)\n",
    "print('Bias:', Bias_2)"
   ]
  },
  {
   "cell_type": "code",
   "execution_count": 144,
   "metadata": {},
   "outputs": [
    {
     "data": {
      "image/png": "[encoded data removed]",
      "text/plain": [
       "<Figure size 432x288 with 1 Axes>"
      ]
     },
     "metadata": {
      "needs_background": "light"
     },
     "output_type": "display_data"
    }
   ],
   "source": [
    "# natural spline\n",
    "model_6 = get_natural_cubic_spline_model(X, y, minval = min(X), maxval = max(X), n_knots = 6)\n",
    "model_15 = get_natural_cubic_spline_model(X, y, minval=min(X), maxval=max(X), n_knots=15)\n",
    "\n",
    "y_est_6 = model_6.predict(X)\n",
    "y_est_15 = model_15.predict(X)\n",
    "plt.scatter(X, y, s=30, edgecolor=\"black\", c=\"grey\", label=\"data\")\n",
    "plt.plot(X, y_est_6, marker='.', label='n_knots = 6', color='lightsteelblue')\n",
    "plt.plot(X, y_est_15, marker='.', label='n_knots = 15', color=\"steelblue\")\n",
    "plt.legend(); plt.show()"
   ]
  },
  {
   "cell_type": "code",
   "execution_count": null,
   "metadata": {},
   "outputs": [],
   "source": []
  }
 ],
 "metadata": {
  "kernelspec": {
   "display_name": "Python 3",
   "language": "python",
   "name": "python3"
  },
  "language_info": {
   "codemirror_mode": {
    "name": "ipython",
    "version": 3
   },
   "file_extension": ".py",
   "mimetype": "text/x-python",
   "name": "python",
   "nbconvert_exporter": "python",
   "pygments_lexer": "ipython3",
   "version": "3.8.3"
  }
 },
 "nbformat": 4,
 "nbformat_minor": 4
}
